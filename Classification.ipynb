{
  "nbformat": 4,
  "nbformat_minor": 0,
  "metadata": {
    "colab": {
      "name": "Classification.ipynb",
      "provenance": [],
      "collapsed_sections": [],
      "machine_shape": "hm"
    },
    "kernelspec": {
      "name": "python3",
      "display_name": "Python 3"
    },
    "accelerator": "GPU"
  },
  "cells": [
    {
      "cell_type": "code",
      "metadata": {
        "id": "d8hQSNUmOup8",
        "colab_type": "code",
        "outputId": "87de271a-c144-4b1e-d1b5-bf508822779a",
        "colab": {
          "base_uri": "https://localhost:8080/",
          "height": 87
        }
      },
      "source": [
        "pip install implicit"
      ],
      "execution_count": 1,
      "outputs": [
        {
          "output_type": "stream",
          "text": [
            "Requirement already satisfied: implicit in /usr/local/lib/python3.6/dist-packages (0.4.2)\n",
            "Requirement already satisfied: tqdm>=4.27 in /usr/local/lib/python3.6/dist-packages (from implicit) (4.28.1)\n",
            "Requirement already satisfied: scipy>=0.16 in /usr/local/lib/python3.6/dist-packages (from implicit) (1.3.3)\n",
            "Requirement already satisfied: numpy in /usr/local/lib/python3.6/dist-packages (from implicit) (1.17.4)\n"
          ],
          "name": "stdout"
        }
      ]
    },
    {
      "cell_type": "code",
      "metadata": {
        "id": "2nzEehJeRbso",
        "colab_type": "code",
        "colab": {}
      },
      "source": [
        "import pandas as pd\n",
        "import numpy as np\n",
        "import implicit\n",
        "import os\n",
        "from google.colab import files\n",
        "\n",
        "from scipy import sparse"
      ],
      "execution_count": 0,
      "outputs": []
    },
    {
      "cell_type": "code",
      "metadata": {
        "id": "I5ysA5sFQgnV",
        "colab_type": "code",
        "outputId": "f31354d3-f8c7-4716-e1f3-987e9eef9a21",
        "colab": {
          "resources": {
            "http://localhost:8080/nbextensions/google.colab/files.js": {
              "data": "Ly8gQ29weXJpZ2h0IDIwMTcgR29vZ2xlIExMQwovLwovLyBMaWNlbnNlZCB1bmRlciB0aGUgQXBhY2hlIExpY2Vuc2UsIFZlcnNpb24gMi4wICh0aGUgIkxpY2Vuc2UiKTsKLy8geW91IG1heSBub3QgdXNlIHRoaXMgZmlsZSBleGNlcHQgaW4gY29tcGxpYW5jZSB3aXRoIHRoZSBMaWNlbnNlLgovLyBZb3UgbWF5IG9idGFpbiBhIGNvcHkgb2YgdGhlIExpY2Vuc2UgYXQKLy8KLy8gICAgICBodHRwOi8vd3d3LmFwYWNoZS5vcmcvbGljZW5zZXMvTElDRU5TRS0yLjAKLy8KLy8gVW5sZXNzIHJlcXVpcmVkIGJ5IGFwcGxpY2FibGUgbGF3IG9yIGFncmVlZCB0byBpbiB3cml0aW5nLCBzb2Z0d2FyZQovLyBkaXN0cmlidXRlZCB1bmRlciB0aGUgTGljZW5zZSBpcyBkaXN0cmlidXRlZCBvbiBhbiAiQVMgSVMiIEJBU0lTLAovLyBXSVRIT1VUIFdBUlJBTlRJRVMgT1IgQ09ORElUSU9OUyBPRiBBTlkgS0lORCwgZWl0aGVyIGV4cHJlc3Mgb3IgaW1wbGllZC4KLy8gU2VlIHRoZSBMaWNlbnNlIGZvciB0aGUgc3BlY2lmaWMgbGFuZ3VhZ2UgZ292ZXJuaW5nIHBlcm1pc3Npb25zIGFuZAovLyBsaW1pdGF0aW9ucyB1bmRlciB0aGUgTGljZW5zZS4KCi8qKgogKiBAZmlsZW92ZXJ2aWV3IEhlbHBlcnMgZm9yIGdvb2dsZS5jb2xhYiBQeXRob24gbW9kdWxlLgogKi8KKGZ1bmN0aW9uKHNjb3BlKSB7CmZ1bmN0aW9uIHNwYW4odGV4dCwgc3R5bGVBdHRyaWJ1dGVzID0ge30pIHsKICBjb25zdCBlbGVtZW50ID0gZG9jdW1lbnQuY3JlYXRlRWxlbWVudCgnc3BhbicpOwogIGVsZW1lbnQudGV4dENvbnRlbnQgPSB0ZXh0OwogIGZvciAoY29uc3Qga2V5IG9mIE9iamVjdC5rZXlzKHN0eWxlQXR0cmlidXRlcykpIHsKICAgIGVsZW1lbnQuc3R5bGVba2V5XSA9IHN0eWxlQXR0cmlidXRlc1trZXldOwogIH0KICByZXR1cm4gZWxlbWVudDsKfQoKLy8gTWF4IG51bWJlciBvZiBieXRlcyB3aGljaCB3aWxsIGJlIHVwbG9hZGVkIGF0IGEgdGltZS4KY29uc3QgTUFYX1BBWUxPQURfU0laRSA9IDEwMCAqIDEwMjQ7Ci8vIE1heCBhbW91bnQgb2YgdGltZSB0byBibG9jayB3YWl0aW5nIGZvciB0aGUgdXNlci4KY29uc3QgRklMRV9DSEFOR0VfVElNRU9VVF9NUyA9IDMwICogMTAwMDsKCmZ1bmN0aW9uIF91cGxvYWRGaWxlcyhpbnB1dElkLCBvdXRwdXRJZCkgewogIGNvbnN0IHN0ZXBzID0gdXBsb2FkRmlsZXNTdGVwKGlucHV0SWQsIG91dHB1dElkKTsKICBjb25zdCBvdXRwdXRFbGVtZW50ID0gZG9jdW1lbnQuZ2V0RWxlbWVudEJ5SWQob3V0cHV0SWQpOwogIC8vIENhY2hlIHN0ZXBzIG9uIHRoZSBvdXRwdXRFbGVtZW50IHRvIG1ha2UgaXQgYXZhaWxhYmxlIGZvciB0aGUgbmV4dCBjYWxsCiAgLy8gdG8gdXBsb2FkRmlsZXNDb250aW51ZSBmcm9tIFB5dGhvbi4KICBvdXRwdXRFbGVtZW50LnN0ZXBzID0gc3RlcHM7CgogIHJldHVybiBfdXBsb2FkRmlsZXNDb250aW51ZShvdXRwdXRJZCk7Cn0KCi8vIFRoaXMgaXMgcm91Z2hseSBhbiBhc3luYyBnZW5lcmF0b3IgKG5vdCBzdXBwb3J0ZWQgaW4gdGhlIGJyb3dzZXIgeWV0KSwKLy8gd2hlcmUgdGhlcmUgYXJlIG11bHRpcGxlIGFzeW5jaHJvbm91cyBzdGVwcyBhbmQgdGhlIFB5dGhvbiBzaWRlIGlzIGdvaW5nCi8vIHRvIHBvbGwgZm9yIGNvbXBsZXRpb24gb2YgZWFjaCBzdGVwLgovLyBUaGlzIHVzZXMgYSBQcm9taXNlIHRvIGJsb2NrIHRoZSBweXRob24gc2lkZSBvbiBjb21wbGV0aW9uIG9mIGVhY2ggc3RlcCwKLy8gdGhlbiBwYXNzZXMgdGhlIHJlc3VsdCBvZiB0aGUgcHJldmlvdXMgc3RlcCBhcyB0aGUgaW5wdXQgdG8gdGhlIG5leHQgc3RlcC4KZnVuY3Rpb24gX3VwbG9hZEZpbGVzQ29udGludWUob3V0cHV0SWQpIHsKICBjb25zdCBvdXRwdXRFbGVtZW50ID0gZG9jdW1lbnQuZ2V0RWxlbWVudEJ5SWQob3V0cHV0SWQpOwogIGNvbnN0IHN0ZXBzID0gb3V0cHV0RWxlbWVudC5zdGVwczsKCiAgY29uc3QgbmV4dCA9IHN0ZXBzLm5leHQob3V0cHV0RWxlbWVudC5sYXN0UHJvbWlzZVZhbHVlKTsKICByZXR1cm4gUHJvbWlzZS5yZXNvbHZlKG5leHQudmFsdWUucHJvbWlzZSkudGhlbigodmFsdWUpID0+IHsKICAgIC8vIENhY2hlIHRoZSBsYXN0IHByb21pc2UgdmFsdWUgdG8gbWFrZSBpdCBhdmFpbGFibGUgdG8gdGhlIG5leHQKICAgIC8vIHN0ZXAgb2YgdGhlIGdlbmVyYXRvci4KICAgIG91dHB1dEVsZW1lbnQubGFzdFByb21pc2VWYWx1ZSA9IHZhbHVlOwogICAgcmV0dXJuIG5leHQudmFsdWUucmVzcG9uc2U7CiAgfSk7Cn0KCi8qKgogKiBHZW5lcmF0b3IgZnVuY3Rpb24gd2hpY2ggaXMgY2FsbGVkIGJldHdlZW4gZWFjaCBhc3luYyBzdGVwIG9mIHRoZSB1cGxvYWQKICogcHJvY2Vzcy4KICogQHBhcmFtIHtzdHJpbmd9IGlucHV0SWQgRWxlbWVudCBJRCBvZiB0aGUgaW5wdXQgZmlsZSBwaWNrZXIgZWxlbWVudC4KICogQHBhcmFtIHtzdHJpbmd9IG91dHB1dElkIEVsZW1lbnQgSUQgb2YgdGhlIG91dHB1dCBkaXNwbGF5LgogKiBAcmV0dXJuIHshSXRlcmFibGU8IU9iamVjdD59IEl0ZXJhYmxlIG9mIG5leHQgc3RlcHMuCiAqLwpmdW5jdGlvbiogdXBsb2FkRmlsZXNTdGVwKGlucHV0SWQsIG91dHB1dElkKSB7CiAgY29uc3QgaW5wdXRFbGVtZW50ID0gZG9jdW1lbnQuZ2V0RWxlbWVudEJ5SWQoaW5wdXRJZCk7CiAgaW5wdXRFbGVtZW50LmRpc2FibGVkID0gZmFsc2U7CgogIGNvbnN0IG91dHB1dEVsZW1lbnQgPSBkb2N1bWVudC5nZXRFbGVtZW50QnlJZChvdXRwdXRJZCk7CiAgb3V0cHV0RWxlbWVudC5pbm5lckhUTUwgPSAnJzsKCiAgY29uc3QgcGlja2VkUHJvbWlzZSA9IG5ldyBQcm9taXNlKChyZXNvbHZlKSA9PiB7CiAgICBpbnB1dEVsZW1lbnQuYWRkRXZlbnRMaXN0ZW5lcignY2hhbmdlJywgKGUpID0+IHsKICAgICAgcmVzb2x2ZShlLnRhcmdldC5maWxlcyk7CiAgICB9KTsKICB9KTsKCiAgY29uc3QgY2FuY2VsID0gZG9jdW1lbnQuY3JlYXRlRWxlbWVudCgnYnV0dG9uJyk7CiAgaW5wdXRFbGVtZW50LnBhcmVudEVsZW1lbnQuYXBwZW5kQ2hpbGQoY2FuY2VsKTsKICBjYW5jZWwudGV4dENvbnRlbnQgPSAnQ2FuY2VsIHVwbG9hZCc7CiAgY29uc3QgY2FuY2VsUHJvbWlzZSA9IG5ldyBQcm9taXNlKChyZXNvbHZlKSA9PiB7CiAgICBjYW5jZWwub25jbGljayA9ICgpID0+IHsKICAgICAgcmVzb2x2ZShudWxsKTsKICAgIH07CiAgfSk7CgogIC8vIENhbmNlbCB1cGxvYWQgaWYgdXNlciBoYXNuJ3QgcGlja2VkIGFueXRoaW5nIGluIHRpbWVvdXQuCiAgY29uc3QgdGltZW91dFByb21pc2UgPSBuZXcgUHJvbWlzZSgocmVzb2x2ZSkgPT4gewogICAgc2V0VGltZW91dCgoKSA9PiB7CiAgICAgIHJlc29sdmUobnVsbCk7CiAgICB9LCBGSUxFX0NIQU5HRV9USU1FT1VUX01TKTsKICB9KTsKCiAgLy8gV2FpdCBmb3IgdGhlIHVzZXIgdG8gcGljayB0aGUgZmlsZXMuCiAgY29uc3QgZmlsZXMgPSB5aWVsZCB7CiAgICBwcm9taXNlOiBQcm9taXNlLnJhY2UoW3BpY2tlZFByb21pc2UsIHRpbWVvdXRQcm9taXNlLCBjYW5jZWxQcm9taXNlXSksCiAgICByZXNwb25zZTogewogICAgICBhY3Rpb246ICdzdGFydGluZycsCiAgICB9CiAgfTsKCiAgaWYgKCFmaWxlcykgewogICAgcmV0dXJuIHsKICAgICAgcmVzcG9uc2U6IHsKICAgICAgICBhY3Rpb246ICdjb21wbGV0ZScsCiAgICAgIH0KICAgIH07CiAgfQoKICBjYW5jZWwucmVtb3ZlKCk7CgogIC8vIERpc2FibGUgdGhlIGlucHV0IGVsZW1lbnQgc2luY2UgZnVydGhlciBwaWNrcyBhcmUgbm90IGFsbG93ZWQuCiAgaW5wdXRFbGVtZW50LmRpc2FibGVkID0gdHJ1ZTsKCiAgZm9yIChjb25zdCBmaWxlIG9mIGZpbGVzKSB7CiAgICBjb25zdCBsaSA9IGRvY3VtZW50LmNyZWF0ZUVsZW1lbnQoJ2xpJyk7CiAgICBsaS5hcHBlbmQoc3BhbihmaWxlLm5hbWUsIHtmb250V2VpZ2h0OiAnYm9sZCd9KSk7CiAgICBsaS5hcHBlbmQoc3BhbigKICAgICAgICBgKCR7ZmlsZS50eXBlIHx8ICduL2EnfSkgLSAke2ZpbGUuc2l6ZX0gYnl0ZXMsIGAgKwogICAgICAgIGBsYXN0IG1vZGlmaWVkOiAkewogICAgICAgICAgICBmaWxlLmxhc3RNb2RpZmllZERhdGUgPyBmaWxlLmxhc3RNb2RpZmllZERhdGUudG9Mb2NhbGVEYXRlU3RyaW5nKCkgOgogICAgICAgICAgICAgICAgICAgICAgICAgICAgICAgICAgICAnbi9hJ30gLSBgKSk7CiAgICBjb25zdCBwZXJjZW50ID0gc3BhbignMCUgZG9uZScpOwogICAgbGkuYXBwZW5kQ2hpbGQocGVyY2VudCk7CgogICAgb3V0cHV0RWxlbWVudC5hcHBlbmRDaGlsZChsaSk7CgogICAgY29uc3QgZmlsZURhdGFQcm9taXNlID0gbmV3IFByb21pc2UoKHJlc29sdmUpID0+IHsKICAgICAgY29uc3QgcmVhZGVyID0gbmV3IEZpbGVSZWFkZXIoKTsKICAgICAgcmVhZGVyLm9ubG9hZCA9IChlKSA9PiB7CiAgICAgICAgcmVzb2x2ZShlLnRhcmdldC5yZXN1bHQpOwogICAgICB9OwogICAgICByZWFkZXIucmVhZEFzQXJyYXlCdWZmZXIoZmlsZSk7CiAgICB9KTsKICAgIC8vIFdhaXQgZm9yIHRoZSBkYXRhIHRvIGJlIHJlYWR5LgogICAgbGV0IGZpbGVEYXRhID0geWllbGQgewogICAgICBwcm9taXNlOiBmaWxlRGF0YVByb21pc2UsCiAgICAgIHJlc3BvbnNlOiB7CiAgICAgICAgYWN0aW9uOiAnY29udGludWUnLAogICAgICB9CiAgICB9OwoKICAgIC8vIFVzZSBhIGNodW5rZWQgc2VuZGluZyB0byBhdm9pZCBtZXNzYWdlIHNpemUgbGltaXRzLiBTZWUgYi82MjExNTY2MC4KICAgIGxldCBwb3NpdGlvbiA9IDA7CiAgICB3aGlsZSAocG9zaXRpb24gPCBmaWxlRGF0YS5ieXRlTGVuZ3RoKSB7CiAgICAgIGNvbnN0IGxlbmd0aCA9IE1hdGgubWluKGZpbGVEYXRhLmJ5dGVMZW5ndGggLSBwb3NpdGlvbiwgTUFYX1BBWUxPQURfU0laRSk7CiAgICAgIGNvbnN0IGNodW5rID0gbmV3IFVpbnQ4QXJyYXkoZmlsZURhdGEsIHBvc2l0aW9uLCBsZW5ndGgpOwogICAgICBwb3NpdGlvbiArPSBsZW5ndGg7CgogICAgICBjb25zdCBiYXNlNjQgPSBidG9hKFN0cmluZy5mcm9tQ2hhckNvZGUuYXBwbHkobnVsbCwgY2h1bmspKTsKICAgICAgeWllbGQgewogICAgICAgIHJlc3BvbnNlOiB7CiAgICAgICAgICBhY3Rpb246ICdhcHBlbmQnLAogICAgICAgICAgZmlsZTogZmlsZS5uYW1lLAogICAgICAgICAgZGF0YTogYmFzZTY0LAogICAgICAgIH0sCiAgICAgIH07CiAgICAgIHBlcmNlbnQudGV4dENvbnRlbnQgPQogICAgICAgICAgYCR7TWF0aC5yb3VuZCgocG9zaXRpb24gLyBmaWxlRGF0YS5ieXRlTGVuZ3RoKSAqIDEwMCl9JSBkb25lYDsKICAgIH0KICB9CgogIC8vIEFsbCBkb25lLgogIHlpZWxkIHsKICAgIHJlc3BvbnNlOiB7CiAgICAgIGFjdGlvbjogJ2NvbXBsZXRlJywKICAgIH0KICB9Owp9CgpzY29wZS5nb29nbGUgPSBzY29wZS5nb29nbGUgfHwge307CnNjb3BlLmdvb2dsZS5jb2xhYiA9IHNjb3BlLmdvb2dsZS5jb2xhYiB8fCB7fTsKc2NvcGUuZ29vZ2xlLmNvbGFiLl9maWxlcyA9IHsKICBfdXBsb2FkRmlsZXMsCiAgX3VwbG9hZEZpbGVzQ29udGludWUsCn07Cn0pKHNlbGYpOwo=",
              "ok": true,
              "headers": [
                [
                  "content-type",
                  "application/javascript"
                ]
              ],
              "status": 200,
              "status_text": ""
            }
          },
          "base_uri": "https://localhost:8080/",
          "height": 74
        }
      },
      "source": [
        "uploaded = files.upload()"
      ],
      "execution_count": 5,
      "outputs": [
        {
          "output_type": "display_data",
          "data": {
            "text/html": [
              "\n",
              "     <input type=\"file\" id=\"files-75b762ce-1f0b-41c8-ada9-ee7bd507a775\" name=\"files[]\" multiple disabled />\n",
              "     <output id=\"result-75b762ce-1f0b-41c8-ada9-ee7bd507a775\">\n",
              "      Upload widget is only available when the cell has been executed in the\n",
              "      current browser session. Please rerun this cell to enable.\n",
              "      </output>\n",
              "      <script src=\"/nbextensions/google.colab/files.js\"></script> "
            ],
            "text/plain": [
              "<IPython.core.display.HTML object>"
            ]
          },
          "metadata": {
            "tags": []
          }
        },
        {
          "output_type": "stream",
          "text": [
            "Saving customers.csv to customers.csv\n"
          ],
          "name": "stdout"
        }
      ]
    },
    {
      "cell_type": "code",
      "metadata": {
        "id": "vH0N8hqnQixb",
        "colab_type": "code",
        "outputId": "e83b0e1c-4b9c-478c-e692-e431fbc41aef",
        "colab": {
          "base_uri": "https://localhost:8080/",
          "height": 34
        }
      },
      "source": [
        "!ls"
      ],
      "execution_count": 1,
      "outputs": [
        {
          "output_type": "stream",
          "text": [
            "customers.csv  purchases_test.csv  purchases_train.csv\tsample_data\n"
          ],
          "name": "stdout"
        }
      ]
    },
    {
      "cell_type": "code",
      "metadata": {
        "id": "RvPCe4PlO9VV",
        "colab_type": "code",
        "colab": {
          "base_uri": "https://localhost:8080/",
          "height": 197
        },
        "outputId": "02f5201c-df03-409b-c415-14a929235985"
      },
      "source": [
        "purchases_train = pd.read_csv('purchases_train.csv')\n",
        "purchases_train.head()"
      ],
      "execution_count": 3,
      "outputs": [
        {
          "output_type": "execute_result",
          "data": {
            "text/html": [
              "<div>\n",
              "<style scoped>\n",
              "    .dataframe tbody tr th:only-of-type {\n",
              "        vertical-align: middle;\n",
              "    }\n",
              "\n",
              "    .dataframe tbody tr th {\n",
              "        vertical-align: top;\n",
              "    }\n",
              "\n",
              "    .dataframe thead th {\n",
              "        text-align: right;\n",
              "    }\n",
              "</style>\n",
              "<table border=\"1\" class=\"dataframe\">\n",
              "  <thead>\n",
              "    <tr style=\"text-align: right;\">\n",
              "      <th></th>\n",
              "      <th>customer_id</th>\n",
              "      <th>product_id</th>\n",
              "      <th>datetime</th>\n",
              "    </tr>\n",
              "  </thead>\n",
              "  <tbody>\n",
              "    <tr>\n",
              "      <th>0</th>\n",
              "      <td>8698595</td>\n",
              "      <td>12530</td>\n",
              "      <td>2004-03-10 22:18:43.497459200</td>\n",
              "    </tr>\n",
              "    <tr>\n",
              "      <th>1</th>\n",
              "      <td>13271885</td>\n",
              "      <td>7541</td>\n",
              "      <td>2004-03-06 02:24:43.209763200</td>\n",
              "    </tr>\n",
              "    <tr>\n",
              "      <th>2</th>\n",
              "      <td>16852746</td>\n",
              "      <td>13134</td>\n",
              "      <td>2004-03-10 01:03:09.598614400</td>\n",
              "    </tr>\n",
              "    <tr>\n",
              "      <th>3</th>\n",
              "      <td>16852746</td>\n",
              "      <td>6572</td>\n",
              "      <td>2004-03-04 16:45:16.522566400</td>\n",
              "    </tr>\n",
              "    <tr>\n",
              "      <th>4</th>\n",
              "      <td>14619070</td>\n",
              "      <td>4659</td>\n",
              "      <td>2004-03-12 13:29:35.011481600</td>\n",
              "    </tr>\n",
              "  </tbody>\n",
              "</table>\n",
              "</div>"
            ],
            "text/plain": [
              "   customer_id  product_id                       datetime\n",
              "0      8698595       12530  2004-03-10 22:18:43.497459200\n",
              "1     13271885        7541  2004-03-06 02:24:43.209763200\n",
              "2     16852746       13134  2004-03-10 01:03:09.598614400\n",
              "3     16852746        6572  2004-03-04 16:45:16.522566400\n",
              "4     14619070        4659  2004-03-12 13:29:35.011481600"
            ]
          },
          "metadata": {
            "tags": []
          },
          "execution_count": 3
        }
      ]
    },
    {
      "cell_type": "code",
      "metadata": {
        "id": "IrIuXrKyUtCT",
        "colab_type": "code",
        "outputId": "174bd1bc-fe3d-49f4-afc2-dcf5fbb39173",
        "colab": {
          "base_uri": "https://localhost:8080/",
          "height": 197
        }
      },
      "source": [
        "purchases_test = pd.read_csv('purchases_test.csv')\n",
        "purchases_test.head()"
      ],
      "execution_count": 4,
      "outputs": [
        {
          "output_type": "execute_result",
          "data": {
            "text/html": [
              "<div>\n",
              "<style scoped>\n",
              "    .dataframe tbody tr th:only-of-type {\n",
              "        vertical-align: middle;\n",
              "    }\n",
              "\n",
              "    .dataframe tbody tr th {\n",
              "        vertical-align: top;\n",
              "    }\n",
              "\n",
              "    .dataframe thead th {\n",
              "        text-align: right;\n",
              "    }\n",
              "</style>\n",
              "<table border=\"1\" class=\"dataframe\">\n",
              "  <thead>\n",
              "    <tr style=\"text-align: right;\">\n",
              "      <th></th>\n",
              "      <th>customer_id</th>\n",
              "      <th>product_id</th>\n",
              "      <th>datetime</th>\n",
              "    </tr>\n",
              "  </thead>\n",
              "  <tbody>\n",
              "    <tr>\n",
              "      <th>0</th>\n",
              "      <td>1021292</td>\n",
              "      <td>6197</td>\n",
              "      <td>2004-03-18 13:35:19.145152000</td>\n",
              "    </tr>\n",
              "    <tr>\n",
              "      <th>1</th>\n",
              "      <td>11379978</td>\n",
              "      <td>4659</td>\n",
              "      <td>2004-03-19 18:51:31.887936000</td>\n",
              "    </tr>\n",
              "    <tr>\n",
              "      <th>2</th>\n",
              "      <td>13271885</td>\n",
              "      <td>5659</td>\n",
              "      <td>2004-03-14 05:47:21.544166400</td>\n",
              "    </tr>\n",
              "    <tr>\n",
              "      <th>3</th>\n",
              "      <td>13271885</td>\n",
              "      <td>1015</td>\n",
              "      <td>2004-03-15 14:41:19.702089601</td>\n",
              "    </tr>\n",
              "    <tr>\n",
              "      <th>4</th>\n",
              "      <td>12315337</td>\n",
              "      <td>12072</td>\n",
              "      <td>2004-03-19 10:39:17.148105600</td>\n",
              "    </tr>\n",
              "  </tbody>\n",
              "</table>\n",
              "</div>"
            ],
            "text/plain": [
              "   customer_id  product_id                       datetime\n",
              "0      1021292        6197  2004-03-18 13:35:19.145152000\n",
              "1     11379978        4659  2004-03-19 18:51:31.887936000\n",
              "2     13271885        5659  2004-03-14 05:47:21.544166400\n",
              "3     13271885        1015  2004-03-15 14:41:19.702089601\n",
              "4     12315337       12072  2004-03-19 10:39:17.148105600"
            ]
          },
          "metadata": {
            "tags": []
          },
          "execution_count": 4
        }
      ]
    },
    {
      "cell_type": "code",
      "metadata": {
        "id": "7-MMdEpiREHP",
        "colab_type": "code",
        "colab": {}
      },
      "source": [
        "purchases = pd.concat([purchases_train, purchases_test])"
      ],
      "execution_count": 0,
      "outputs": []
    },
    {
      "cell_type": "code",
      "metadata": {
        "id": "MuBXhBKLaphO",
        "colab_type": "code",
        "outputId": "f1853c59-612a-4710-c6ff-d42c8ba3d433",
        "colab": {
          "base_uri": "https://localhost:8080/",
          "height": 197
        }
      },
      "source": [
        "customers = pd.read_csv('customers.csv')\n",
        "customers.head()"
      ],
      "execution_count": 6,
      "outputs": [
        {
          "output_type": "execute_result",
          "data": {
            "text/html": [
              "<div>\n",
              "<style scoped>\n",
              "    .dataframe tbody tr th:only-of-type {\n",
              "        vertical-align: middle;\n",
              "    }\n",
              "\n",
              "    .dataframe tbody tr th {\n",
              "        vertical-align: top;\n",
              "    }\n",
              "\n",
              "    .dataframe thead th {\n",
              "        text-align: right;\n",
              "    }\n",
              "</style>\n",
              "<table border=\"1\" class=\"dataframe\">\n",
              "  <thead>\n",
              "    <tr style=\"text-align: right;\">\n",
              "      <th></th>\n",
              "      <th>customer_id</th>\n",
              "      <th>sex</th>\n",
              "    </tr>\n",
              "  </thead>\n",
              "  <tbody>\n",
              "    <tr>\n",
              "      <th>0</th>\n",
              "      <td>14386819</td>\n",
              "      <td>Female</td>\n",
              "    </tr>\n",
              "    <tr>\n",
              "      <th>1</th>\n",
              "      <td>1481405</td>\n",
              "      <td>NaN</td>\n",
              "    </tr>\n",
              "    <tr>\n",
              "      <th>2</th>\n",
              "      <td>16745074</td>\n",
              "      <td>NaN</td>\n",
              "    </tr>\n",
              "    <tr>\n",
              "      <th>3</th>\n",
              "      <td>10325906</td>\n",
              "      <td>NaN</td>\n",
              "    </tr>\n",
              "    <tr>\n",
              "      <th>4</th>\n",
              "      <td>11167384</td>\n",
              "      <td>NaN</td>\n",
              "    </tr>\n",
              "  </tbody>\n",
              "</table>\n",
              "</div>"
            ],
            "text/plain": [
              "   customer_id     sex\n",
              "0     14386819  Female\n",
              "1      1481405     NaN\n",
              "2     16745074     NaN\n",
              "3     10325906     NaN\n",
              "4     11167384     NaN"
            ]
          },
          "metadata": {
            "tags": []
          },
          "execution_count": 6
        }
      ]
    },
    {
      "cell_type": "code",
      "metadata": {
        "id": "g7lj7D5ksY90",
        "colab_type": "code",
        "outputId": "db0167c9-83ae-4904-b7cc-13c91d78c98b",
        "colab": {
          "base_uri": "https://localhost:8080/",
          "height": 197
        }
      },
      "source": [
        "purch_tr = purchases.groupby('customer_id')['product_id'].apply(lambda s: s.values).reset_index()\n",
        "purch_tr.rename(columns={'product_id': 'product_ids'}, inplace=True)\n",
        "purch_tr.head()"
      ],
      "execution_count": 7,
      "outputs": [
        {
          "output_type": "execute_result",
          "data": {
            "text/html": [
              "<div>\n",
              "<style scoped>\n",
              "    .dataframe tbody tr th:only-of-type {\n",
              "        vertical-align: middle;\n",
              "    }\n",
              "\n",
              "    .dataframe tbody tr th {\n",
              "        vertical-align: top;\n",
              "    }\n",
              "\n",
              "    .dataframe thead th {\n",
              "        text-align: right;\n",
              "    }\n",
              "</style>\n",
              "<table border=\"1\" class=\"dataframe\">\n",
              "  <thead>\n",
              "    <tr style=\"text-align: right;\">\n",
              "      <th></th>\n",
              "      <th>customer_id</th>\n",
              "      <th>product_ids</th>\n",
              "    </tr>\n",
              "  </thead>\n",
              "  <tbody>\n",
              "    <tr>\n",
              "      <th>0</th>\n",
              "      <td>107</td>\n",
              "      <td>[1542, 5449, 5868]</td>\n",
              "    </tr>\n",
              "    <tr>\n",
              "      <th>1</th>\n",
              "      <td>351</td>\n",
              "      <td>[965]</td>\n",
              "    </tr>\n",
              "    <tr>\n",
              "      <th>2</th>\n",
              "      <td>357</td>\n",
              "      <td>[12654]</td>\n",
              "    </tr>\n",
              "    <tr>\n",
              "      <th>3</th>\n",
              "      <td>434</td>\n",
              "      <td>[6771, 5868, 7754, 12043, 6735, 7290, 9408, 39...</td>\n",
              "    </tr>\n",
              "    <tr>\n",
              "      <th>4</th>\n",
              "      <td>453</td>\n",
              "      <td>[5868, 11854]</td>\n",
              "    </tr>\n",
              "  </tbody>\n",
              "</table>\n",
              "</div>"
            ],
            "text/plain": [
              "   customer_id                                        product_ids\n",
              "0          107                                 [1542, 5449, 5868]\n",
              "1          351                                              [965]\n",
              "2          357                                            [12654]\n",
              "3          434  [6771, 5868, 7754, 12043, 6735, 7290, 9408, 39...\n",
              "4          453                                      [5868, 11854]"
            ]
          },
          "metadata": {
            "tags": []
          },
          "execution_count": 7
        }
      ]
    },
    {
      "cell_type": "code",
      "metadata": {
        "id": "enUdVCwSlPcq",
        "colab_type": "code",
        "outputId": "c5006b65-f49d-47d3-8f24-e18eaee46a8e",
        "colab": {
          "base_uri": "https://localhost:8080/",
          "height": 197
        }
      },
      "source": [
        "purch_tr_1 = purch_tr.merge(customers, left_on='customer_id', right_on='customer_id', how='left')[['customer_id', 'sex', 'product_ids']]\n",
        "purch_tr_1.head()"
      ],
      "execution_count": 8,
      "outputs": [
        {
          "output_type": "execute_result",
          "data": {
            "text/html": [
              "<div>\n",
              "<style scoped>\n",
              "    .dataframe tbody tr th:only-of-type {\n",
              "        vertical-align: middle;\n",
              "    }\n",
              "\n",
              "    .dataframe tbody tr th {\n",
              "        vertical-align: top;\n",
              "    }\n",
              "\n",
              "    .dataframe thead th {\n",
              "        text-align: right;\n",
              "    }\n",
              "</style>\n",
              "<table border=\"1\" class=\"dataframe\">\n",
              "  <thead>\n",
              "    <tr style=\"text-align: right;\">\n",
              "      <th></th>\n",
              "      <th>customer_id</th>\n",
              "      <th>sex</th>\n",
              "      <th>product_ids</th>\n",
              "    </tr>\n",
              "  </thead>\n",
              "  <tbody>\n",
              "    <tr>\n",
              "      <th>0</th>\n",
              "      <td>107</td>\n",
              "      <td>NaN</td>\n",
              "      <td>[1542, 5449, 5868]</td>\n",
              "    </tr>\n",
              "    <tr>\n",
              "      <th>1</th>\n",
              "      <td>351</td>\n",
              "      <td>NaN</td>\n",
              "      <td>[965]</td>\n",
              "    </tr>\n",
              "    <tr>\n",
              "      <th>2</th>\n",
              "      <td>357</td>\n",
              "      <td>NaN</td>\n",
              "      <td>[12654]</td>\n",
              "    </tr>\n",
              "    <tr>\n",
              "      <th>3</th>\n",
              "      <td>434</td>\n",
              "      <td>Female</td>\n",
              "      <td>[6771, 5868, 7754, 12043, 6735, 7290, 9408, 39...</td>\n",
              "    </tr>\n",
              "    <tr>\n",
              "      <th>4</th>\n",
              "      <td>453</td>\n",
              "      <td>Male</td>\n",
              "      <td>[5868, 11854]</td>\n",
              "    </tr>\n",
              "  </tbody>\n",
              "</table>\n",
              "</div>"
            ],
            "text/plain": [
              "   customer_id     sex                                        product_ids\n",
              "0          107     NaN                                 [1542, 5449, 5868]\n",
              "1          351     NaN                                              [965]\n",
              "2          357     NaN                                            [12654]\n",
              "3          434  Female  [6771, 5868, 7754, 12043, 6735, 7290, 9408, 39...\n",
              "4          453    Male                                      [5868, 11854]"
            ]
          },
          "metadata": {
            "tags": []
          },
          "execution_count": 8
        }
      ]
    },
    {
      "cell_type": "code",
      "metadata": {
        "id": "butmHjPyphq_",
        "colab_type": "code",
        "outputId": "3d3682ba-5f83-486d-cf6d-cb9428e6db5f",
        "colab": {
          "base_uri": "https://localhost:8080/",
          "height": 197
        }
      },
      "source": [
        "df = purch_tr_1[(purch_tr_1.sex.notna())]\n",
        "df.head()"
      ],
      "execution_count": 9,
      "outputs": [
        {
          "output_type": "execute_result",
          "data": {
            "text/html": [
              "<div>\n",
              "<style scoped>\n",
              "    .dataframe tbody tr th:only-of-type {\n",
              "        vertical-align: middle;\n",
              "    }\n",
              "\n",
              "    .dataframe tbody tr th {\n",
              "        vertical-align: top;\n",
              "    }\n",
              "\n",
              "    .dataframe thead th {\n",
              "        text-align: right;\n",
              "    }\n",
              "</style>\n",
              "<table border=\"1\" class=\"dataframe\">\n",
              "  <thead>\n",
              "    <tr style=\"text-align: right;\">\n",
              "      <th></th>\n",
              "      <th>customer_id</th>\n",
              "      <th>sex</th>\n",
              "      <th>product_ids</th>\n",
              "    </tr>\n",
              "  </thead>\n",
              "  <tbody>\n",
              "    <tr>\n",
              "      <th>3</th>\n",
              "      <td>434</td>\n",
              "      <td>Female</td>\n",
              "      <td>[6771, 5868, 7754, 12043, 6735, 7290, 9408, 39...</td>\n",
              "    </tr>\n",
              "    <tr>\n",
              "      <th>4</th>\n",
              "      <td>453</td>\n",
              "      <td>Male</td>\n",
              "      <td>[5868, 11854]</td>\n",
              "    </tr>\n",
              "    <tr>\n",
              "      <th>6</th>\n",
              "      <td>1011</td>\n",
              "      <td>Female</td>\n",
              "      <td>[1093, 10515, 11822, 12667, 10609, 7110]</td>\n",
              "    </tr>\n",
              "    <tr>\n",
              "      <th>8</th>\n",
              "      <td>1135</td>\n",
              "      <td>Female</td>\n",
              "      <td>[3878, 1463, 8994]</td>\n",
              "    </tr>\n",
              "    <tr>\n",
              "      <th>10</th>\n",
              "      <td>1376</td>\n",
              "      <td>Female</td>\n",
              "      <td>[6461, 570]</td>\n",
              "    </tr>\n",
              "  </tbody>\n",
              "</table>\n",
              "</div>"
            ],
            "text/plain": [
              "    customer_id     sex                                        product_ids\n",
              "3           434  Female  [6771, 5868, 7754, 12043, 6735, 7290, 9408, 39...\n",
              "4           453    Male                                      [5868, 11854]\n",
              "6          1011  Female           [1093, 10515, 11822, 12667, 10609, 7110]\n",
              "8          1135  Female                                 [3878, 1463, 8994]\n",
              "10         1376  Female                                        [6461, 570]"
            ]
          },
          "metadata": {
            "tags": []
          },
          "execution_count": 9
        }
      ]
    },
    {
      "cell_type": "code",
      "metadata": {
        "id": "z3ADTz8Z3ioR",
        "colab_type": "code",
        "colab": {}
      },
      "source": [
        "import seaborn as sns\n",
        "import matplotlib.pyplot as plt"
      ],
      "execution_count": 0,
      "outputs": []
    },
    {
      "cell_type": "code",
      "metadata": {
        "id": "xitm75hk83FJ",
        "colab_type": "code",
        "outputId": "7d24e7af-043d-4dab-fb73-13099645676e",
        "colab": {
          "base_uri": "https://localhost:8080/",
          "height": 34
        }
      },
      "source": [
        "# количество уникальных id покупателей\n",
        "len(df['customer_id'])"
      ],
      "execution_count": 11,
      "outputs": [
        {
          "output_type": "execute_result",
          "data": {
            "text/plain": [
              "31943"
            ]
          },
          "metadata": {
            "tags": []
          },
          "execution_count": 11
        }
      ]
    },
    {
      "cell_type": "code",
      "metadata": {
        "id": "lgucxqUL5k5a",
        "colab_type": "code",
        "outputId": "266a83fa-9022-41a4-b2bb-b7e51c62f509",
        "colab": {
          "base_uri": "https://localhost:8080/",
          "height": 70
        }
      },
      "source": [
        "df['sex'].value_counts()"
      ],
      "execution_count": 12,
      "outputs": [
        {
          "output_type": "execute_result",
          "data": {
            "text/plain": [
              "Female    23536\n",
              "Male       8407\n",
              "Name: sex, dtype: int64"
            ]
          },
          "metadata": {
            "tags": []
          },
          "execution_count": 12
        }
      ]
    },
    {
      "cell_type": "code",
      "metadata": {
        "id": "hZJC-OFG2cYV",
        "colab_type": "code",
        "outputId": "09468267-b5d4-44c5-987b-5066c9026e7e",
        "colab": {
          "base_uri": "https://localhost:8080/",
          "height": 366
        }
      },
      "source": [
        "print('Распределение покупателей по половой принадлежности')\n",
        "print(df['sex'].value_counts()/len(df))\n",
        "\n",
        "colors = {'Male': 'b', 'Female': 'r'}\n",
        "\n",
        "sns.countplot('sex', data=df, palette=colors)\n",
        "plt.title('Пол покупателей', fontsize=14)\n",
        "plt.show()"
      ],
      "execution_count": 13,
      "outputs": [
        {
          "output_type": "stream",
          "text": [
            "Распределение покупателей по половой принадлежности\n",
            "Female    0.736812\n",
            "Male      0.263188\n",
            "Name: sex, dtype: float64\n"
          ],
          "name": "stdout"
        },
        {
          "output_type": "display_data",
          "data": {
            "image/png": "[encoded data removed]",
            "text/plain": [
              "<Figure size 432x288 with 1 Axes>"
            ]
          },
          "metadata": {
            "tags": []
          }
        }
      ]
    },
    {
      "cell_type": "markdown",
      "metadata": {
        "id": "MgcG8pmoGnZ3",
        "colab_type": "text"
      },
      "source": [
        "Выровняем классы путем копирования экземпляров класса меньшинства."
      ]
    },
    {
      "cell_type": "code",
      "metadata": {
        "id": "kI78N5kx-YtL",
        "colab_type": "code",
        "outputId": "9a13623b-0b1e-4e8d-d3e7-f37910c12a35",
        "colab": {
          "base_uri": "https://localhost:8080/",
          "height": 197
        }
      },
      "source": [
        "# Перемешаем данные перед созданием подвыборок\n",
        "df = df.sample(frac=1)\n",
        "\n",
        "\n",
        "female_df = df.loc[df['sex'] == 'Female']\n",
        "male_df = df.loc[df['sex'] == 'Male']\n",
        "# что бы количество было одинаково - скопируем все записи и добавим еще 6722 случайным образом\n",
        "male_df_res = pd.concat([male_df, male_df, male_df.sample(n=6722)])\n",
        "\n",
        "# объединение female_df и male_df\n",
        "normal_distributed_df = pd.concat([female_df, male_df_res])\n",
        "\n",
        "# Перемешиваем строки в наборе данных\n",
        "new_df = normal_distributed_df.sample(frac=1, random_state=42).reset_index(drop=True)\n",
        "\n",
        "new_df.head()"
      ],
      "execution_count": 14,
      "outputs": [
        {
          "output_type": "execute_result",
          "data": {
            "text/html": [
              "<div>\n",
              "<style scoped>\n",
              "    .dataframe tbody tr th:only-of-type {\n",
              "        vertical-align: middle;\n",
              "    }\n",
              "\n",
              "    .dataframe tbody tr th {\n",
              "        vertical-align: top;\n",
              "    }\n",
              "\n",
              "    .dataframe thead th {\n",
              "        text-align: right;\n",
              "    }\n",
              "</style>\n",
              "<table border=\"1\" class=\"dataframe\">\n",
              "  <thead>\n",
              "    <tr style=\"text-align: right;\">\n",
              "      <th></th>\n",
              "      <th>customer_id</th>\n",
              "      <th>sex</th>\n",
              "      <th>product_ids</th>\n",
              "    </tr>\n",
              "  </thead>\n",
              "  <tbody>\n",
              "    <tr>\n",
              "      <th>0</th>\n",
              "      <td>20514756</td>\n",
              "      <td>Female</td>\n",
              "      <td>[10366, 13690, 2614, 5128]</td>\n",
              "    </tr>\n",
              "    <tr>\n",
              "      <th>1</th>\n",
              "      <td>15117338</td>\n",
              "      <td>Male</td>\n",
              "      <td>[9033, 4372]</td>\n",
              "    </tr>\n",
              "    <tr>\n",
              "      <th>2</th>\n",
              "      <td>15488307</td>\n",
              "      <td>Male</td>\n",
              "      <td>[6204, 11494, 5239, 9845, 7714, 8576, 4550, 19...</td>\n",
              "    </tr>\n",
              "    <tr>\n",
              "      <th>3</th>\n",
              "      <td>19894733</td>\n",
              "      <td>Female</td>\n",
              "      <td>[2446, 7290]</td>\n",
              "    </tr>\n",
              "    <tr>\n",
              "      <th>4</th>\n",
              "      <td>20766334</td>\n",
              "      <td>Male</td>\n",
              "      <td>[4728]</td>\n",
              "    </tr>\n",
              "  </tbody>\n",
              "</table>\n",
              "</div>"
            ],
            "text/plain": [
              "   customer_id     sex                                        product_ids\n",
              "0     20514756  Female                         [10366, 13690, 2614, 5128]\n",
              "1     15117338    Male                                       [9033, 4372]\n",
              "2     15488307    Male  [6204, 11494, 5239, 9845, 7714, 8576, 4550, 19...\n",
              "3     19894733  Female                                       [2446, 7290]\n",
              "4     20766334    Male                                             [4728]"
            ]
          },
          "metadata": {
            "tags": []
          },
          "execution_count": 14
        }
      ]
    },
    {
      "cell_type": "code",
      "metadata": {
        "id": "CVDjmwssDgDP",
        "colab_type": "code",
        "outputId": "0b82dcc4-efba-43c6-df93-29d6fbb5f7dd",
        "colab": {
          "base_uri": "https://localhost:8080/",
          "height": 70
        }
      },
      "source": [
        "new_df['sex'].value_counts()"
      ],
      "execution_count": 15,
      "outputs": [
        {
          "output_type": "execute_result",
          "data": {
            "text/plain": [
              "Female    23536\n",
              "Male      23536\n",
              "Name: sex, dtype: int64"
            ]
          },
          "metadata": {
            "tags": []
          },
          "execution_count": 15
        }
      ]
    },
    {
      "cell_type": "code",
      "metadata": {
        "id": "LMCadzJz-Y9f",
        "colab_type": "code",
        "outputId": "08e8ce76-45f3-442e-c9ab-709a7b3260c2",
        "colab": {
          "base_uri": "https://localhost:8080/",
          "height": 295
        }
      },
      "source": [
        "sns.countplot('sex', data=new_df, palette=colors)\n",
        "plt.title('Пол покупателей', fontsize=14)\n",
        "plt.show()"
      ],
      "execution_count": 16,
      "outputs": [
        {
          "output_type": "display_data",
          "data": {
            "image/png": "[encoded data removed]",
            "text/plain": [
              "<Figure size 432x288 with 1 Axes>"
            ]
          },
          "metadata": {
            "tags": []
          }
        }
      ]
    },
    {
      "cell_type": "code",
      "metadata": {
        "id": "BqC5L1QOBpBj",
        "colab_type": "code",
        "outputId": "a4d165c7-c449-4f1c-ef1d-35ac649c8dc5",
        "colab": {
          "base_uri": "https://localhost:8080/",
          "height": 215
        }
      },
      "source": [
        "# удаляем столбец customer_id, что бы не мешался\n",
        "# заменяем значения Female на 1, Male на 0\n",
        "\n",
        "new_df = new_df.drop('customer_id', axis=1)\n",
        "new_df['sex'] = new_df['sex'].map({'Female': 1, 'Male': 0})\n",
        "\n",
        "new_df = new_df.reset_index(drop=True)\n",
        "print('Female - 1, ', 'Male - 0')\n",
        "\n",
        "new_df.head()"
      ],
      "execution_count": 17,
      "outputs": [
        {
          "output_type": "stream",
          "text": [
            "Female - 1,  Male - 0\n"
          ],
          "name": "stdout"
        },
        {
          "output_type": "execute_result",
          "data": {
            "text/html": [
              "<div>\n",
              "<style scoped>\n",
              "    .dataframe tbody tr th:only-of-type {\n",
              "        vertical-align: middle;\n",
              "    }\n",
              "\n",
              "    .dataframe tbody tr th {\n",
              "        vertical-align: top;\n",
              "    }\n",
              "\n",
              "    .dataframe thead th {\n",
              "        text-align: right;\n",
              "    }\n",
              "</style>\n",
              "<table border=\"1\" class=\"dataframe\">\n",
              "  <thead>\n",
              "    <tr style=\"text-align: right;\">\n",
              "      <th></th>\n",
              "      <th>sex</th>\n",
              "      <th>product_ids</th>\n",
              "    </tr>\n",
              "  </thead>\n",
              "  <tbody>\n",
              "    <tr>\n",
              "      <th>0</th>\n",
              "      <td>1</td>\n",
              "      <td>[10366, 13690, 2614, 5128]</td>\n",
              "    </tr>\n",
              "    <tr>\n",
              "      <th>1</th>\n",
              "      <td>0</td>\n",
              "      <td>[9033, 4372]</td>\n",
              "    </tr>\n",
              "    <tr>\n",
              "      <th>2</th>\n",
              "      <td>0</td>\n",
              "      <td>[6204, 11494, 5239, 9845, 7714, 8576, 4550, 19...</td>\n",
              "    </tr>\n",
              "    <tr>\n",
              "      <th>3</th>\n",
              "      <td>1</td>\n",
              "      <td>[2446, 7290]</td>\n",
              "    </tr>\n",
              "    <tr>\n",
              "      <th>4</th>\n",
              "      <td>0</td>\n",
              "      <td>[4728]</td>\n",
              "    </tr>\n",
              "  </tbody>\n",
              "</table>\n",
              "</div>"
            ],
            "text/plain": [
              "   sex                                        product_ids\n",
              "0    1                         [10366, 13690, 2614, 5128]\n",
              "1    0                                       [9033, 4372]\n",
              "2    0  [6204, 11494, 5239, 9845, 7714, 8576, 4550, 19...\n",
              "3    1                                       [2446, 7290]\n",
              "4    0                                             [4728]"
            ]
          },
          "metadata": {
            "tags": []
          },
          "execution_count": 17
        }
      ]
    },
    {
      "cell_type": "code",
      "metadata": {
        "id": "tmLk4I35rxA8",
        "colab_type": "code",
        "colab": {}
      },
      "source": [
        "from sklearn.model_selection import train_test_split\n",
        "\n",
        "x = new_df.drop('sex', axis=1)\n",
        "y = new_df['sex']"
      ],
      "execution_count": 0,
      "outputs": []
    },
    {
      "cell_type": "code",
      "metadata": {
        "id": "DscQkFy40KzP",
        "colab_type": "code",
        "outputId": "5c66f199-b7f7-41e7-dc5b-026c4143d6db",
        "colab": {
          "base_uri": "https://localhost:8080/",
          "height": 81
        }
      },
      "source": [
        "from keras.preprocessing.sequence import pad_sequences\n",
        "\n",
        "# maxlen - максимальное количество id товаров купленных одним покупателем\n",
        "maxlen = 10\n",
        "x = x['product_ids'].tolist()\n",
        "y = y.values\n",
        "\n",
        "x = pad_sequences(x, maxlen=maxlen, padding='post')"
      ],
      "execution_count": 19,
      "outputs": [
        {
          "output_type": "stream",
          "text": [
            "Using TensorFlow backend.\n"
          ],
          "name": "stderr"
        },
        {
          "output_type": "display_data",
          "data": {
            "text/html": [
              "<p style=\"color: red;\">\n",
              "The default version of TensorFlow in Colab will soon switch to TensorFlow 2.x.<br>\n",
              "We recommend you <a href=\"https://www.tensorflow.org/guide/migrate\" target=\"_blank\">upgrade</a> now \n",
              "or ensure your notebook will continue to use TensorFlow 1.x via the <code>%tensorflow_version 1.x</code> magic:\n",
              "<a href=\"https://colab.research.google.com/notebooks/tensorflow_version.ipynb\" target=\"_blank\">more info</a>.</p>\n"
            ],
            "text/plain": [
              "<IPython.core.display.HTML object>"
            ]
          },
          "metadata": {
            "tags": []
          }
        }
      ]
    },
    {
      "cell_type": "code",
      "metadata": {
        "id": "NYCV3HTa1De-",
        "colab_type": "code",
        "colab": {}
      },
      "source": [
        "x_train, x_test, y_train, y_test = train_test_split(x, y, test_size=0.2, random_state=42)"
      ],
      "execution_count": 0,
      "outputs": []
    },
    {
      "cell_type": "code",
      "metadata": {
        "id": "Egku_95lG-Zq",
        "colab_type": "code",
        "outputId": "3378326b-41cb-41b8-b282-dd011aba016a",
        "colab": {
          "base_uri": "https://localhost:8080/",
          "height": 52
        }
      },
      "source": [
        "# покупки покупателя\n",
        "x_train[5]"
      ],
      "execution_count": 21,
      "outputs": [
        {
          "output_type": "execute_result",
          "data": {
            "text/plain": [
              "array([5868,    0,    0,    0,    0,    0,    0,    0,    0,    0],\n",
              "      dtype=int32)"
            ]
          },
          "metadata": {
            "tags": []
          },
          "execution_count": 21
        }
      ]
    },
    {
      "cell_type": "code",
      "metadata": {
        "id": "A5TkyWRrNM92",
        "colab_type": "code",
        "outputId": "dc0c401e-f201-49de-cfe8-9fb76e47ed6c",
        "colab": {
          "base_uri": "https://localhost:8080/",
          "height": 34
        }
      },
      "source": [
        "# пол покупателя\n",
        "y_train[5]"
      ],
      "execution_count": 22,
      "outputs": [
        {
          "output_type": "execute_result",
          "data": {
            "text/plain": [
              "1"
            ]
          },
          "metadata": {
            "tags": []
          },
          "execution_count": 22
        }
      ]
    },
    {
      "cell_type": "code",
      "metadata": {
        "id": "HDTVU-voushA",
        "colab_type": "code",
        "colab": {}
      },
      "source": [
        "# выравнивание классов\n",
        "#from imblearn.under_sampling import RandomUnderSampler\n",
        "\n",
        "# random oversampling\n",
        "#ros = RandomOverSampler(random_state=42)\n",
        "#x_train_res, y_train_res = ros.fit_resample(x_train, y_train)"
      ],
      "execution_count": 0,
      "outputs": []
    },
    {
      "cell_type": "code",
      "metadata": {
        "id": "qG-NGaa0ceZK",
        "colab_type": "code",
        "outputId": "221aeba0-4efd-4762-a085-cf8fb629d751",
        "colab": {
          "base_uri": "https://localhost:8080/",
          "height": 34
        }
      },
      "source": [
        "print(x_train.shape, y_train.shape)"
      ],
      "execution_count": 24,
      "outputs": [
        {
          "output_type": "stream",
          "text": [
            "(37657, 10) (37657,)\n"
          ],
          "name": "stdout"
        }
      ]
    },
    {
      "cell_type": "code",
      "metadata": {
        "id": "PXVaztQQa4kN",
        "colab_type": "code",
        "colab": {}
      },
      "source": [
        "from keras.datasets import imdb\n",
        "from keras.models import Sequential\n",
        "from keras.layers import Dense, Embedding, Flatten, Dropout\n",
        "from keras import utils\n",
        "from keras.preprocessing.sequence import pad_sequences\n",
        "from keras import optimizers"
      ],
      "execution_count": 0,
      "outputs": []
    },
    {
      "cell_type": "code",
      "metadata": {
        "id": "gFS6xIZYqmJ_",
        "colab_type": "code",
        "outputId": "ec818297-b1a0-48ed-921f-8ae49984b69e",
        "colab": {
          "base_uri": "https://localhost:8080/",
          "height": 34
        }
      },
      "source": [
        "# количество уникальных id товаров\n",
        "max_product = len(purchases['product_id'].unique())\n",
        "print(max_product)"
      ],
      "execution_count": 26,
      "outputs": [
        {
          "output_type": "stream",
          "text": [
            "1799\n"
          ],
          "name": "stdout"
        }
      ]
    },
    {
      "cell_type": "code",
      "metadata": {
        "id": "zQypk6HHa5Ol",
        "colab_type": "code",
        "outputId": "617967ce-8b4c-469d-8533-2eab0de5ae7a",
        "colab": {
          "base_uri": "https://localhost:8080/",
          "height": 212
        }
      },
      "source": [
        "model_nn = Sequential()\n",
        "model_nn.add(Embedding(max_product, 2, input_length=maxlen))\n",
        "model_nn.add(Dropout(0.25))\n",
        "model_nn.add(Flatten())\n",
        "model_nn.add(Dense(1, activation='sigmoid'))"
      ],
      "execution_count": 27,
      "outputs": [
        {
          "output_type": "stream",
          "text": [
            "WARNING:tensorflow:From /usr/local/lib/python3.6/dist-packages/keras/backend/tensorflow_backend.py:66: The name tf.get_default_graph is deprecated. Please use tf.compat.v1.get_default_graph instead.\n",
            "\n",
            "WARNING:tensorflow:From /usr/local/lib/python3.6/dist-packages/keras/backend/tensorflow_backend.py:541: The name tf.placeholder is deprecated. Please use tf.compat.v1.placeholder instead.\n",
            "\n",
            "WARNING:tensorflow:From /usr/local/lib/python3.6/dist-packages/keras/backend/tensorflow_backend.py:4432: The name tf.random_uniform is deprecated. Please use tf.random.uniform instead.\n",
            "\n",
            "WARNING:tensorflow:From /usr/local/lib/python3.6/dist-packages/keras/backend/tensorflow_backend.py:148: The name tf.placeholder_with_default is deprecated. Please use tf.compat.v1.placeholder_with_default instead.\n",
            "\n",
            "WARNING:tensorflow:From /usr/local/lib/python3.6/dist-packages/keras/backend/tensorflow_backend.py:3733: calling dropout (from tensorflow.python.ops.nn_ops) with keep_prob is deprecated and will be removed in a future version.\n",
            "Instructions for updating:\n",
            "Please use `rate` instead of `keep_prob`. Rate should be set to `rate = 1 - keep_prob`.\n"
          ],
          "name": "stdout"
        }
      ]
    },
    {
      "cell_type": "code",
      "metadata": {
        "id": "89qpeayph3B-",
        "colab_type": "code",
        "outputId": "e49bee41-2a09-4402-d338-ae80001895fc",
        "colab": {
          "base_uri": "https://localhost:8080/",
          "height": 141
        }
      },
      "source": [
        "model_nn.compile(optimizer='adam', \n",
        "              loss='binary_crossentropy', \n",
        "              metrics=['accuracy'])"
      ],
      "execution_count": 28,
      "outputs": [
        {
          "output_type": "stream",
          "text": [
            "WARNING:tensorflow:From /usr/local/lib/python3.6/dist-packages/keras/optimizers.py:793: The name tf.train.Optimizer is deprecated. Please use tf.compat.v1.train.Optimizer instead.\n",
            "\n",
            "WARNING:tensorflow:From /usr/local/lib/python3.6/dist-packages/keras/backend/tensorflow_backend.py:3657: The name tf.log is deprecated. Please use tf.math.log instead.\n",
            "\n",
            "WARNING:tensorflow:From /usr/local/lib/python3.6/dist-packages/tensorflow_core/python/ops/nn_impl.py:183: where (from tensorflow.python.ops.array_ops) is deprecated and will be removed in a future version.\n",
            "Instructions for updating:\n",
            "Use tf.where in 2.0, which has the same broadcast rule as np.where\n"
          ],
          "name": "stdout"
        }
      ]
    },
    {
      "cell_type": "code",
      "metadata": {
        "id": "L5t7MS_ph3qd",
        "colab_type": "code",
        "outputId": "05fe0549-e23b-4b03-83fb-fb8488d342fd",
        "colab": {
          "base_uri": "https://localhost:8080/",
          "height": 1000
        }
      },
      "source": [
        "history = model_nn.fit(x_train, \n",
        "                    y_train, \n",
        "                    epochs=50,\n",
        "                    batch_size=256,\n",
        "                    validation_split=0.1,\n",
        "                    verbose = 2)"
      ],
      "execution_count": 29,
      "outputs": [
        {
          "output_type": "stream",
          "text": [
            "WARNING:tensorflow:From /usr/local/lib/python3.6/dist-packages/keras/backend/tensorflow_backend.py:1033: The name tf.assign_add is deprecated. Please use tf.compat.v1.assign_add instead.\n",
            "\n",
            "WARNING:tensorflow:From /usr/local/lib/python3.6/dist-packages/keras/backend/tensorflow_backend.py:1020: The name tf.assign is deprecated. Please use tf.compat.v1.assign instead.\n",
            "\n",
            "WARNING:tensorflow:From /usr/local/lib/python3.6/dist-packages/keras/backend/tensorflow_backend.py:3005: The name tf.Session is deprecated. Please use tf.compat.v1.Session instead.\n",
            "\n",
            "Train on 33891 samples, validate on 3766 samples\n",
            "Epoch 1/50\n",
            "WARNING:tensorflow:From /usr/local/lib/python3.6/dist-packages/keras/backend/tensorflow_backend.py:190: The name tf.get_default_session is deprecated. Please use tf.compat.v1.get_default_session instead.\n",
            "\n",
            "WARNING:tensorflow:From /usr/local/lib/python3.6/dist-packages/keras/backend/tensorflow_backend.py:197: The name tf.ConfigProto is deprecated. Please use tf.compat.v1.ConfigProto instead.\n",
            "\n",
            "WARNING:tensorflow:From /usr/local/lib/python3.6/dist-packages/keras/backend/tensorflow_backend.py:207: The name tf.global_variables is deprecated. Please use tf.compat.v1.global_variables instead.\n",
            "\n",
            "WARNING:tensorflow:From /usr/local/lib/python3.6/dist-packages/keras/backend/tensorflow_backend.py:216: The name tf.is_variable_initialized is deprecated. Please use tf.compat.v1.is_variable_initialized instead.\n",
            "\n",
            "WARNING:tensorflow:From /usr/local/lib/python3.6/dist-packages/keras/backend/tensorflow_backend.py:223: The name tf.variables_initializer is deprecated. Please use tf.compat.v1.variables_initializer instead.\n",
            "\n",
            " - 1s - loss: 0.6914 - acc: 0.5301 - val_loss: 0.6886 - val_acc: 0.5661\n",
            "Epoch 2/50\n",
            " - 0s - loss: 0.6877 - acc: 0.5543 - val_loss: 0.6839 - val_acc: 0.5836\n",
            "Epoch 3/50\n",
            " - 0s - loss: 0.6821 - acc: 0.5691 - val_loss: 0.6769 - val_acc: 0.5887\n",
            "Epoch 4/50\n",
            " - 0s - loss: 0.6768 - acc: 0.5792 - val_loss: 0.6708 - val_acc: 0.5905\n",
            "Epoch 5/50\n",
            " - 0s - loss: 0.6709 - acc: 0.5846 - val_loss: 0.6658 - val_acc: 0.5969\n",
            "Epoch 6/50\n",
            " - 0s - loss: 0.6677 - acc: 0.5879 - val_loss: 0.6617 - val_acc: 0.5990\n",
            "Epoch 7/50\n",
            " - 0s - loss: 0.6648 - acc: 0.5882 - val_loss: 0.6596 - val_acc: 0.6012\n",
            "Epoch 8/50\n",
            " - 0s - loss: 0.6638 - acc: 0.5889 - val_loss: 0.6576 - val_acc: 0.6033\n",
            "Epoch 9/50\n",
            " - 0s - loss: 0.6623 - acc: 0.5901 - val_loss: 0.6567 - val_acc: 0.6059\n",
            "Epoch 10/50\n",
            " - 0s - loss: 0.6613 - acc: 0.5911 - val_loss: 0.6554 - val_acc: 0.6033\n",
            "Epoch 11/50\n",
            " - 0s - loss: 0.6618 - acc: 0.5872 - val_loss: 0.6549 - val_acc: 0.6030\n",
            "Epoch 12/50\n",
            " - 0s - loss: 0.6601 - acc: 0.5917 - val_loss: 0.6540 - val_acc: 0.6052\n",
            "Epoch 13/50\n",
            " - 0s - loss: 0.6602 - acc: 0.5905 - val_loss: 0.6542 - val_acc: 0.5975\n",
            "Epoch 14/50\n",
            " - 0s - loss: 0.6598 - acc: 0.5922 - val_loss: 0.6531 - val_acc: 0.6054\n",
            "Epoch 15/50\n",
            " - 0s - loss: 0.6598 - acc: 0.5910 - val_loss: 0.6528 - val_acc: 0.6049\n",
            "Epoch 16/50\n",
            " - 0s - loss: 0.6597 - acc: 0.5905 - val_loss: 0.6528 - val_acc: 0.6052\n",
            "Epoch 17/50\n",
            " - 0s - loss: 0.6592 - acc: 0.5891 - val_loss: 0.6526 - val_acc: 0.6059\n",
            "Epoch 18/50\n",
            " - 0s - loss: 0.6584 - acc: 0.5898 - val_loss: 0.6518 - val_acc: 0.6038\n",
            "Epoch 19/50\n",
            " - 0s - loss: 0.6585 - acc: 0.5933 - val_loss: 0.6524 - val_acc: 0.6052\n",
            "Epoch 20/50\n",
            " - 0s - loss: 0.6586 - acc: 0.5907 - val_loss: 0.6522 - val_acc: 0.6052\n",
            "Epoch 21/50\n",
            " - 0s - loss: 0.6592 - acc: 0.5890 - val_loss: 0.6516 - val_acc: 0.6075\n",
            "Epoch 22/50\n",
            " - 0s - loss: 0.6585 - acc: 0.5919 - val_loss: 0.6517 - val_acc: 0.6062\n",
            "Epoch 23/50\n",
            " - 0s - loss: 0.6585 - acc: 0.5908 - val_loss: 0.6512 - val_acc: 0.6057\n",
            "Epoch 24/50\n",
            " - 0s - loss: 0.6580 - acc: 0.5881 - val_loss: 0.6510 - val_acc: 0.6054\n",
            "Epoch 25/50\n",
            " - 0s - loss: 0.6591 - acc: 0.5927 - val_loss: 0.6511 - val_acc: 0.6059\n",
            "Epoch 26/50\n",
            " - 0s - loss: 0.6585 - acc: 0.5912 - val_loss: 0.6512 - val_acc: 0.6065\n",
            "Epoch 27/50\n",
            " - 0s - loss: 0.6588 - acc: 0.5900 - val_loss: 0.6513 - val_acc: 0.6057\n",
            "Epoch 28/50\n",
            " - 0s - loss: 0.6573 - acc: 0.5902 - val_loss: 0.6510 - val_acc: 0.6073\n",
            "Epoch 29/50\n",
            " - 0s - loss: 0.6575 - acc: 0.5915 - val_loss: 0.6514 - val_acc: 0.6081\n",
            "Epoch 30/50\n",
            " - 0s - loss: 0.6586 - acc: 0.5899 - val_loss: 0.6511 - val_acc: 0.6078\n",
            "Epoch 31/50\n",
            " - 0s - loss: 0.6585 - acc: 0.5883 - val_loss: 0.6506 - val_acc: 0.6054\n",
            "Epoch 32/50\n",
            " - 0s - loss: 0.6574 - acc: 0.5902 - val_loss: 0.6507 - val_acc: 0.6046\n",
            "Epoch 33/50\n",
            " - 0s - loss: 0.6582 - acc: 0.5899 - val_loss: 0.6508 - val_acc: 0.6067\n",
            "Epoch 34/50\n",
            " - 0s - loss: 0.6572 - acc: 0.5928 - val_loss: 0.6507 - val_acc: 0.6067\n",
            "Epoch 35/50\n",
            " - 0s - loss: 0.6581 - acc: 0.5919 - val_loss: 0.6505 - val_acc: 0.6067\n",
            "Epoch 36/50\n",
            " - 0s - loss: 0.6587 - acc: 0.5907 - val_loss: 0.6506 - val_acc: 0.6075\n",
            "Epoch 37/50\n",
            " - 0s - loss: 0.6577 - acc: 0.5910 - val_loss: 0.6507 - val_acc: 0.6081\n",
            "Epoch 38/50\n",
            " - 0s - loss: 0.6581 - acc: 0.5887 - val_loss: 0.6503 - val_acc: 0.6067\n",
            "Epoch 39/50\n",
            " - 0s - loss: 0.6571 - acc: 0.5919 - val_loss: 0.6509 - val_acc: 0.6086\n",
            "Epoch 40/50\n",
            " - 0s - loss: 0.6573 - acc: 0.5913 - val_loss: 0.6503 - val_acc: 0.6057\n",
            "Epoch 41/50\n",
            " - 0s - loss: 0.6574 - acc: 0.5934 - val_loss: 0.6502 - val_acc: 0.6059\n",
            "Epoch 42/50\n",
            " - 0s - loss: 0.6581 - acc: 0.5885 - val_loss: 0.6504 - val_acc: 0.6067\n",
            "Epoch 43/50\n",
            " - 0s - loss: 0.6576 - acc: 0.5890 - val_loss: 0.6504 - val_acc: 0.6070\n",
            "Epoch 44/50\n",
            " - 0s - loss: 0.6580 - acc: 0.5909 - val_loss: 0.6503 - val_acc: 0.6075\n",
            "Epoch 45/50\n",
            " - 0s - loss: 0.6567 - acc: 0.5897 - val_loss: 0.6504 - val_acc: 0.6078\n",
            "Epoch 46/50\n",
            " - 0s - loss: 0.6556 - acc: 0.5931 - val_loss: 0.6503 - val_acc: 0.6075\n",
            "Epoch 47/50\n",
            " - 0s - loss: 0.6569 - acc: 0.5920 - val_loss: 0.6504 - val_acc: 0.6078\n",
            "Epoch 48/50\n",
            " - 0s - loss: 0.6565 - acc: 0.5915 - val_loss: 0.6499 - val_acc: 0.6089\n",
            "Epoch 49/50\n",
            " - 0s - loss: 0.6568 - acc: 0.5926 - val_loss: 0.6504 - val_acc: 0.6059\n",
            "Epoch 50/50\n",
            " - 0s - loss: 0.6561 - acc: 0.5917 - val_loss: 0.6500 - val_acc: 0.6067\n"
          ],
          "name": "stdout"
        }
      ]
    },
    {
      "cell_type": "code",
      "metadata": {
        "id": "Nlr5oJz2iTBZ",
        "colab_type": "code",
        "outputId": "3d89071c-84db-4c8c-832b-36e8d9eaaf50",
        "colab": {
          "base_uri": "https://localhost:8080/",
          "height": 278
        }
      },
      "source": [
        "plt.plot(history.history['acc'], \n",
        "         label='Доля верных ответов на обучающем наборе')\n",
        "plt.plot(history.history['val_acc'], \n",
        "         label='Доля верных ответов на проверочном наборе')\n",
        "plt.xlabel('Эпоха обучения')\n",
        "plt.ylabel('Доля верных ответов')\n",
        "plt.legend()\n",
        "plt.show()"
      ],
      "execution_count": 30,
      "outputs": [
        {
          "output_type": "display_data",
          "data": {
            "image/png": "[encoded data removed]",
            "text/plain": [
              "<Figure size 432x288 with 1 Axes>"
            ]
          },
          "metadata": {
            "tags": []
          }
        }
      ]
    },
    {
      "cell_type": "markdown",
      "metadata": {
        "id": "ic4XpiXsl6ic",
        "colab_type": "text"
      },
      "source": [
        "**Получаем матрицу плотных векторных представлений товаров**"
      ]
    },
    {
      "cell_type": "code",
      "metadata": {
        "id": "AvXR_xq0lqWe",
        "colab_type": "code",
        "outputId": "a54eb923-a90e-4771-ea3c-0df3087b1b39",
        "colab": {
          "base_uri": "https://localhost:8080/",
          "height": 105
        }
      },
      "source": [
        "embedding_matrix = model_nn.layers[0].get_weights()[0]\n",
        "embedding_matrix[:5]"
      ],
      "execution_count": 31,
      "outputs": [
        {
          "output_type": "execute_result",
          "data": {
            "text/plain": [
              "array([[ 0.01283675, -0.03364468],\n",
              "       [-0.00643514, -0.04679894],\n",
              "       [-0.01227235, -0.00366832],\n",
              "       [-0.04149725, -0.03379389],\n",
              "       [-0.00714284,  0.023964  ]], dtype=float32)"
            ]
          },
          "metadata": {
            "tags": []
          },
          "execution_count": 31
        }
      ]
    },
    {
      "cell_type": "markdown",
      "metadata": {
        "id": "IMaVzI2bmDgP",
        "colab_type": "text"
      },
      "source": [
        "**Визуализация плотных векторных представлений товаров**"
      ]
    },
    {
      "cell_type": "code",
      "metadata": {
        "id": "F74bldACmKZw",
        "colab_type": "code",
        "outputId": "d4681587-75a1-41dc-8a68-6bc62670119b",
        "colab": {
          "base_uri": "https://localhost:8080/",
          "height": 282
        }
      },
      "source": [
        "plt.scatter(embedding_matrix[:,0], embedding_matrix[:,1])"
      ],
      "execution_count": 32,
      "outputs": [
        {
          "output_type": "execute_result",
          "data": {
            "text/plain": [
              "<matplotlib.collections.PathCollection at 0x7f7e900c52b0>"
            ]
          },
          "metadata": {
            "tags": []
          },
          "execution_count": 32
        },
        {
          "output_type": "display_data",
          "data": {
            "image/png": "[encoded data removed]",
            "text/plain": [
              "<Figure size 432x288 with 1 Axes>"
            ]
          },
          "metadata": {
            "tags": []
          }
        }
      ]
    },
    {
      "cell_type": "code",
      "metadata": {
        "id": "8nT6j3Ork3jy",
        "colab_type": "code",
        "outputId": "218efe55-425a-4d52-d9be-b64db6a5be93",
        "colab": {
          "base_uri": "https://localhost:8080/",
          "height": 141
        }
      },
      "source": [
        "embedding_matrix"
      ],
      "execution_count": 33,
      "outputs": [
        {
          "output_type": "execute_result",
          "data": {
            "text/plain": [
              "array([[ 0.01283675, -0.03364468],\n",
              "       [-0.00643514, -0.04679894],\n",
              "       [-0.01227235, -0.00366832],\n",
              "       ...,\n",
              "       [-0.04694242, -0.00774112],\n",
              "       [ 0.25454906, -0.32646015],\n",
              "       [ 0.03307653,  0.0407798 ]], dtype=float32)"
            ]
          },
          "metadata": {
            "tags": []
          },
          "execution_count": 33
        }
      ]
    },
    {
      "cell_type": "markdown",
      "metadata": {
        "id": "KwRTcg6Unv9P",
        "colab_type": "text"
      },
      "source": [
        "**Выводы по классификации покупателей:**\n",
        "\n",
        "- Наш классификатор определяет пол покупателя правильно для 60%, что всего лишь \n",
        "на 10% лучше случайного определения и на 13% хуже, если всех считать женщинами (жинщины составляеют 73% от покупателей у которых определен пол);\n",
        "- Большая часть товаров на визуальном предстваление плотных векторов около точки (0.0; 0.0) - это значит, что их покупают примерно с одинаковой частотой люди обоих полов;\n",
        "- Одна неделя - слишком малый срок для того, что бы покупатель набрал достаточно товаров для определения его пола;\n",
        "- Использование такого классификатора бесплезно."
      ]
    },
    {
      "cell_type": "markdown",
      "metadata": {
        "id": "v0fbeumnzyaw",
        "colab_type": "text"
      },
      "source": [
        "**Улучшение рекомендательной сисетмы**\n",
        "\n",
        "Создадим спицаиальные рекомендательные сисетмы отдельно для покупателей каждого пола, а для тех, чей пол неизвестен - будем использовать общую рекомендательную систему, которая обучалась в начале этого ноутбука."
      ]
    }
  ]
}